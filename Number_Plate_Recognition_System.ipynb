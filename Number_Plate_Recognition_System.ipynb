{
 "cells": [
  {
   "cell_type": "code",
   "execution_count": 2,
   "metadata": {},
   "outputs": [
    {
     "name": "stdout",
     "output_type": "stream",
     "text": [
      "Detected Number is: B58 BPS.\n",
      "\f",
      "\n"
     ]
    }
   ],
   "source": [
    "import cv2\n",
    "import imutils\n",
    "import numpy as np\n",
    "import pytesseract\n",
    "from PIL import Image\n",
    "\n",
    "img = cv2.imread('bmw.jpg')\n",
    "\n",
    "img = cv2.resize(img, (620,480))\n",
    "\n",
    "gray = cv2.cvtColor(img, cv2.COLOR_BGR2GRAY) #convert to grey scale\n",
    "gray = cv2.bilateralFilter(gray, 11, 17, 17) #Blur to reduce noise\n",
    "edged = cv2.Canny(gray, 30, 200) #Perform Edge detection\n",
    "\n",
    "# find contours in the edged image, keep only the largest\n",
    "# ones, and initialize our screen contour\n",
    "cnts = cv2.findContours(edged.copy(), cv2.RETR_TREE, cv2.CHAIN_APPROX_SIMPLE)\n",
    "cnts = imutils.grab_contours(cnts)\n",
    "cnts = sorted(cnts, key = cv2.contourArea, reverse = True)[:10]\n",
    "screenCnt = None\n",
    "\n",
    "# loop over our contours\n",
    "for c in cnts:\n",
    " # approximate the contour\n",
    " peri = cv2.arcLength(c, True)\n",
    " approx = cv2.approxPolyDP(c, 0.018 * peri, True)\n",
    " \n",
    " # if our approximated contour has four points, then\n",
    " # we can assume that we have found our screen\n",
    " if len(approx) == 4:\n",
    "  screenCnt = approx\n",
    "  break\n",
    "\n",
    "if screenCnt is None:\n",
    " detected = 0\n",
    " print(\"No contour detected\")\n",
    "else:\n",
    " detected = 1\n",
    "\n",
    "if detected == 1:\n",
    " cv2.drawContours(img, [screenCnt], -1, (0, 0, 255), 3)\n",
    "\n",
    "# Masking the part other than the number plate\n",
    "mask = np.zeros(gray.shape,np.uint8)\n",
    "new_image = cv2.drawContours(mask,[screenCnt],0,255,-1,)\n",
    "new_image = cv2.bitwise_and(img,img,mask=mask)\n",
    "\n",
    "# Now crop\n",
    "(x, y) = np.where(mask == 255)\n",
    "(topx, topy) = (np.min(x), np.min(y))\n",
    "(bottomx, bottomy) = (np.max(x), np.max(y))\n",
    "Cropped = gray[topx:bottomx+1, topy:bottomy+1]\n",
    "\n",
    "\n",
    "#Read the number plate\n",
    "text = pytesseract.image_to_string(Cropped, config='--psm 7')\n",
    "x = approx.ravel()[0]\n",
    "y = approx.ravel()[1]\n",
    "    #if len(text) <= 4:\n",
    "        #pass\n",
    "\n",
    "\n",
    "\n",
    "print(\"Detected Number is:\",text)\n",
    "\n",
    "cv2.imshow('cropped', Cropped)\n",
    "#cv2.imshow('img')\n",
    "#cv2.imshow('im',im)\n",
    "cv2.imshow('img', img)\n",
    "cv2.imshow('edged', edged)\n",
    "#cv2.imshow('Cropped',Cropped)\n",
    "\n",
    "cv2.waitKey(0)\n",
    "cv2.destroyAllWindows()"
   ]
  },
  {
   "cell_type": "code",
   "execution_count": null,
   "metadata": {},
   "outputs": [],
   "source": []
  }
 ],
 "metadata": {
  "kernelspec": {
   "display_name": "Python 3",
   "language": "python",
   "name": "python3"
  },
  "language_info": {
   "codemirror_mode": {
    "name": "ipython",
    "version": 3
   },
   "file_extension": ".py",
   "mimetype": "text/x-python",
   "name": "python",
   "nbconvert_exporter": "python",
   "pygments_lexer": "ipython3",
   "version": "3.7.9"
  }
 },
 "nbformat": 4,
 "nbformat_minor": 4
}
